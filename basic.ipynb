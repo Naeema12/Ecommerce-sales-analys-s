{
  "cells": [
    {
      "cell_type": "markdown",
      "id": "54ef3b81-28a6-4b53-a1b0-39537faaf1af",
      "metadata": {
        "id": "54ef3b81-28a6-4b53-a1b0-39537faaf1af"
      },
      "source": [
        "# question -1\n",
        "## Python Program to Check Prime Number\n",
        "\n",
        "#### prime number - A prime number is a number that can only be divided by itself and 1\n",
        "\n",
        "####  2, 3, 5, 7, 11, 13, 17, 19, 23, 29, 31, 37, 41, 43, 47, 53, 59, 61, 67, 71, 73, 79, 83, 89, 97."
      ]
    },
    {
      "cell_type": "code",
      "execution_count": null,
      "id": "ff5c59c7-451d-4119-bd03-8bee14a56a05",
      "metadata": {
        "id": "ff5c59c7-451d-4119-bd03-8bee14a56a05",
        "outputId": "ac011bd5-6e17-4f21-dcc7-1a65af456c2d"
      },
      "outputs": [
        {
          "name": "stdout",
          "output_type": "stream",
          "text": [
            "not prime\n"
          ]
        }
      ],
      "source": [
        "\n",
        "def prime(n):\n",
        "    flag=1\n",
        "    if n==0 or n==1:\n",
        "        print('not prime')\n",
        "    elif n>1:\n",
        "        for i in range(2,n):\n",
        "            if n%i==0:\n",
        "                flag=0\n",
        "                break\n",
        "    if flag==0:\n",
        "        print('not prime')\n",
        "    else:\n",
        "        print('prime')\n",
        "\n",
        "\n",
        "prime(10)\n",
        "\n"
      ]
    },
    {
      "cell_type": "markdown",
      "id": "4abb1f2d-8464-48a2-82f0-db29a0014434",
      "metadata": {
        "id": "4abb1f2d-8464-48a2-82f0-db29a0014434"
      },
      "source": [
        "# question -2\n",
        "## Python Program to Find the Factorial of a Number\n",
        "\n",
        "#### a factorial is a function that multiplies a number by every number below it till 1. For example, the factorial of 3 represents the multiplication of numbers 3, 2, 1, i.e. 3! = 3 × 2 × 1"
      ]
    },
    {
      "cell_type": "code",
      "execution_count": null,
      "id": "fb6e4822-8393-4f13-9d50-da5701dfa20c",
      "metadata": {
        "id": "fb6e4822-8393-4f13-9d50-da5701dfa20c",
        "outputId": "3cd09c24-51bd-46b0-dfd4-e63beaf3741e"
      },
      "outputs": [
        {
          "name": "stdout",
          "output_type": "stream",
          "text": [
            "6\n",
            "5\n",
            "4\n",
            "3\n",
            "2\n"
          ]
        },
        {
          "data": {
            "text/plain": [
              "720"
            ]
          },
          "execution_count": 87,
          "metadata": {},
          "output_type": "execute_result"
        }
      ],
      "source": [
        "\n",
        "def fact(n):\n",
        "    if n==0 or n==1:\n",
        "        return 1\n",
        "    else:\n",
        "        print(n)\n",
        "        return n* fact(n-1)\n",
        "6*5*4*3*2*1\n",
        "fact(3)=\n",
        "\n",
        "fact(6)"
      ]
    },
    {
      "cell_type": "markdown",
      "id": "9492f4a2-9e31-420c-96b0-4215a414514c",
      "metadata": {
        "id": "9492f4a2-9e31-420c-96b0-4215a414514c"
      },
      "source": [
        "# question -3\n",
        "## Python Program for n-th Fibonacci numbe\n",
        "\n",
        "#### the series of numbers where each number is the sum of the two preceding numbers. For example, 0, 1, 1, 2, 3, 5, 8, 13, 21, 34, 55, 89, 144, 233, 377, 610"
      ]
    },
    {
      "cell_type": "code",
      "execution_count": null,
      "id": "40afddc0-8a9d-4a5f-b159-3e9664f00c78",
      "metadata": {
        "id": "40afddc0-8a9d-4a5f-b159-3e9664f00c78",
        "outputId": "36f9429f-e4af-48f5-d1b2-a639fdf2debb"
      },
      "outputs": [
        {
          "data": {
            "text/plain": [
              "5"
            ]
          },
          "execution_count": 111,
          "metadata": {},
          "output_type": "execute_result"
        }
      ],
      "source": [
        "def fib(n):\n",
        "    if n==1:\n",
        "        return 0\n",
        "    elif n==2 :\n",
        "        return 1\n",
        "    else:\n",
        "        return fib(n-1)+fib(n-2)\n",
        "\n",
        "fib(6)"
      ]
    },
    {
      "cell_type": "markdown",
      "id": "2a3637c0-b8d7-4c27-b52b-ed1955b03766",
      "metadata": {
        "id": "2a3637c0-b8d7-4c27-b52b-ed1955b03766"
      },
      "source": [
        "# question -4\n",
        "## Python Program for Sum of squares of first n natural numbers\n",
        " #### Natural numbers are the numbers that start from 1 and end at infinity\n",
        "\n",
        " #### Input : N = 4\n",
        "#### Output : 30\n",
        "####   1 + 4 + 9 + 16  = 30"
      ]
    },
    {
      "cell_type": "code",
      "execution_count": null,
      "id": "c26fa856-a07f-408a-9c64-b18cbc4f027c",
      "metadata": {
        "id": "c26fa856-a07f-408a-9c64-b18cbc4f027c",
        "outputId": "a1504b07-1622-4f19-e0e2-2faa68208f2e"
      },
      "outputs": [
        {
          "data": {
            "text/plain": [
              "14"
            ]
          },
          "execution_count": 115,
          "metadata": {},
          "output_type": "execute_result"
        }
      ],
      "source": [
        "def natural(n):\n",
        "    sum=0\n",
        "    for i in range(1,n+1):\n",
        "        sum+=i*i\n",
        "    return sum\n",
        "natural(3)"
      ]
    },
    {
      "cell_type": "markdown",
      "id": "c453273c-a3a8-49ce-a199-d3ee8f83e11b",
      "metadata": {
        "id": "c453273c-a3a8-49ce-a199-d3ee8f83e11b"
      },
      "source": [
        "# question -5\n",
        "## Armstrong number is a number that is equal to the sum of its digits, each raised to the power of the number of digits in the number. For example, 153 is an Armstrong number because 1^3 + 5^3 + 3^3 = 153."
      ]
    },
    {
      "cell_type": "code",
      "execution_count": null,
      "id": "320d1584-77ac-4ea0-9dec-17bc87063474",
      "metadata": {
        "id": "320d1584-77ac-4ea0-9dec-17bc87063474",
        "outputId": "2219c21a-5794-4b14-ea33-d648d419e29d"
      },
      "outputs": [
        {
          "name": "stdout",
          "output_type": "stream",
          "text": [
            "not\n"
          ]
        }
      ],
      "source": [
        "def arm(n):\n",
        "    sum=0\n",
        "    temp=n\n",
        "    length=len(str(n))\n",
        "\n",
        "    while temp>0:\n",
        "        digit=temp%10\n",
        "        sum+=digit**length\n",
        "        temp=temp//10\n",
        "    if n==sum:\n",
        "        print('armstrong number')\n",
        "    else:\n",
        "        print('not')\n",
        "\n",
        "arm(15)"
      ]
    },
    {
      "cell_type": "markdown",
      "id": "4a516c41-d02f-4365-8f95-2c3ab777d983",
      "metadata": {
        "id": "4a516c41-d02f-4365-8f95-2c3ab777d983"
      },
      "source": [
        "# question -6\n",
        "### Python Program to Find Sum of Array\n",
        "### Input : arr[] = {1, 2, 3}\n",
        "### Output : 6\n",
        "### Explanation: 1 + 2 + 3 = 6"
      ]
    },
    {
      "cell_type": "code",
      "execution_count": null,
      "id": "46d0c467-c4f0-4a4a-a468-5bc76a85d7d6",
      "metadata": {
        "id": "46d0c467-c4f0-4a4a-a468-5bc76a85d7d6",
        "outputId": "23ef6d05-a4dd-48f1-de87-1ff0a86c7496"
      },
      "outputs": [
        {
          "data": {
            "text/plain": [
              "9"
            ]
          },
          "execution_count": 104,
          "metadata": {},
          "output_type": "execute_result"
        }
      ],
      "source": [
        "l=[2,3,4]\n",
        "def summation(l):\n",
        "    sum=0\n",
        "    for i in l:\n",
        "        sum=sum+i\n",
        "    return sum\n",
        "summation(l)"
      ]
    },
    {
      "cell_type": "markdown",
      "id": "267d7c49-eaed-4c49-9e6f-e068d3624f55",
      "metadata": {
        "id": "267d7c49-eaed-4c49-9e6f-e068d3624f55"
      },
      "source": [
        "# question -7\n",
        "## Python Program to Find Largest Element in an Array\n",
        "## Input : arr[] = {10, 20, 4}\n",
        "## Output : 20\n"
      ]
    },
    {
      "cell_type": "code",
      "execution_count": null,
      "id": "51cff8d1-d45d-484f-8412-0dd31c413553",
      "metadata": {
        "id": "51cff8d1-d45d-484f-8412-0dd31c413553",
        "outputId": "40a8b998-7087-457f-885c-ae08ff1bd9cb"
      },
      "outputs": [
        {
          "name": "stdout",
          "output_type": "stream",
          "text": [
            "2\n",
            "333\n",
            "4\n",
            "55\n",
            "6\n"
          ]
        },
        {
          "data": {
            "text/plain": [
              "333"
            ]
          },
          "execution_count": 110,
          "metadata": {},
          "output_type": "execute_result"
        }
      ],
      "source": [
        "arr=[2,333,4,55,6]\n",
        "max=0\n",
        "for i in arr:\n",
        "    if i>max:\n",
        "        max=i\n",
        "    print(i)\n",
        "max"
      ]
    },
    {
      "cell_type": "markdown",
      "id": "d659d366-acec-483f-8358-8e96dd830516",
      "metadata": {
        "id": "d659d366-acec-483f-8358-8e96dd830516"
      },
      "source": [
        "# question -8\n",
        "## Python Program to Array Rotation\n",
        "## Input : arr[] = {10, 20, 4}\n",
        "\n"
      ]
    },
    {
      "cell_type": "code",
      "execution_count": null,
      "id": "55ec7817-68c2-4e0b-ab78-a6e661c2234c",
      "metadata": {
        "id": "55ec7817-68c2-4e0b-ab78-a6e661c2234c",
        "outputId": "8aafe3f4-66d7-4b7e-cb0b-4c44b89b150a"
      },
      "outputs": [
        {
          "data": {
            "text/plain": [
              "[5, 4, 3, 2, 1]"
            ]
          },
          "execution_count": 116,
          "metadata": {},
          "output_type": "execute_result"
        }
      ],
      "source": [
        "arr=[1,2,3,4,5]\n",
        "[arr[i] for i in range(len(arr)-1,-1,-1)]"
      ]
    },
    {
      "cell_type": "markdown",
      "id": "fa011196-1e00-43b0-bfd2-764c2d76ba44",
      "metadata": {
        "id": "fa011196-1e00-43b0-bfd2-764c2d76ba44"
      },
      "source": [
        "# question -9\n",
        "## Python program to interchange first and last elements in a list\n",
        "## my_list = [1, 2, 3, 4, 5]\n",
        "\n"
      ]
    },
    {
      "cell_type": "code",
      "execution_count": null,
      "id": "e232c1ec-00b0-438f-ba24-7c7c0682f073",
      "metadata": {
        "id": "e232c1ec-00b0-438f-ba24-7c7c0682f073",
        "outputId": "f3c6987a-b6ed-455c-8ed0-fd04cd0caef6"
      },
      "outputs": [
        {
          "data": {
            "text/plain": [
              "[6, 2, 3, 4, 5, 1]"
            ]
          },
          "execution_count": 118,
          "metadata": {},
          "output_type": "execute_result"
        }
      ],
      "source": [
        "a=[1,2,3,4,5,6]\n",
        "a[0]\n",
        "a[-1]\n",
        "a[0],a[-1]=a[-1],a[0]\n",
        "a"
      ]
    },
    {
      "cell_type": "markdown",
      "id": "71b38816-1ae6-4fdc-bc2e-6c07ffe7f8df",
      "metadata": {
        "id": "71b38816-1ae6-4fdc-bc2e-6c07ffe7f8df"
      },
      "source": [
        "# question -10\n",
        "## Python Program to Swap Two Elements in a List\n",
        "## my_list = [1, 2, 3, 4, 5]\n",
        "\n"
      ]
    },
    {
      "cell_type": "code",
      "execution_count": null,
      "id": "cddca189-de41-4f00-94ad-dc572a5f9fec",
      "metadata": {
        "id": "cddca189-de41-4f00-94ad-dc572a5f9fec",
        "outputId": "2c60f005-46b5-4936-c008-9ede1176b965"
      },
      "outputs": [
        {
          "data": {
            "text/plain": [
              "[1, 2, 6, 4, 5, 3, 7]"
            ]
          },
          "execution_count": 120,
          "metadata": {},
          "output_type": "execute_result"
        }
      ],
      "source": [
        "a=[1,2,3,4,5,6,7]\n",
        "i=2\n",
        "i1=5\n",
        "a[i],a[i1]=a[i1],a[i]\n",
        "a"
      ]
    },
    {
      "cell_type": "markdown",
      "id": "fedeb0d5-6b69-4948-815e-a502ab3cac00",
      "metadata": {
        "id": "fedeb0d5-6b69-4948-815e-a502ab3cac00"
      },
      "source": [
        "# question -11\n",
        "## Python Program to  Check if a String is Palindrome or Not\n",
        "## find reverse of the string and then Check if reverse and original are same or not.\n",
        "## Input : malayalam\n",
        "## Output : Yes\n",
        "\n"
      ]
    },
    {
      "cell_type": "code",
      "execution_count": null,
      "id": "c658730d-be02-4687-bd5d-9e37440b704e",
      "metadata": {
        "id": "c658730d-be02-4687-bd5d-9e37440b704e",
        "outputId": "2e59798e-6209-4c96-ab5a-0cede28f3878"
      },
      "outputs": [
        {
          "name": "stdout",
          "output_type": "stream",
          "text": [
            "palindrome\n"
          ]
        }
      ],
      "source": [
        "s='malayalam'\n",
        "\n",
        "a=''\n",
        "for i in s:\n",
        "    a=i+a\n",
        "if a==s:\n",
        "    print('palindrome')\n",
        "else:\n",
        "    print('not')"
      ]
    },
    {
      "cell_type": "markdown",
      "id": "2fea9f5c-3c65-49d7-8e07-bdb3473e173f",
      "metadata": {
        "id": "2fea9f5c-3c65-49d7-8e07-bdb3473e173f"
      },
      "source": [
        "# question -12\n",
        "## Python Program to Reverse Words in a Given String in Python\n",
        "## Input : str =\" geeks quiz practice code\"\n",
        "## Output : str = code practice quiz geeks\n",
        "\n",
        "\n"
      ]
    },
    {
      "cell_type": "code",
      "execution_count": null,
      "id": "4e73c0a3-b381-423a-89cd-c47a4edffde6",
      "metadata": {
        "id": "4e73c0a3-b381-423a-89cd-c47a4edffde6",
        "outputId": "7051d7d1-92b4-401a-c854-1d981f2440c4"
      },
      "outputs": [
        {
          "data": {
            "text/plain": [
              "'best is hello'"
            ]
          },
          "execution_count": 199,
          "metadata": {},
          "output_type": "execute_result"
        }
      ],
      "source": [
        "s='hello is best'\n",
        "l= s.split()\n",
        "l[::-1]\n",
        "a=' '.join(l[::-1])\n",
        "a"
      ]
    },
    {
      "cell_type": "markdown",
      "id": "034e8d3d-b0e8-44d2-a613-24771bb61455",
      "metadata": {
        "id": "034e8d3d-b0e8-44d2-a613-24771bb61455"
      },
      "source": [
        "# question -13\n",
        "## Python Program to How to Remove Letters From a String in Python\n",
        "## Input : str =s = \"hello world\"\n",
        "\n",
        "\n",
        "\n"
      ]
    },
    {
      "cell_type": "code",
      "execution_count": null,
      "id": "8e9ddef8-cc3e-442b-9381-44944a91bbf1",
      "metadata": {
        "id": "8e9ddef8-cc3e-442b-9381-44944a91bbf1",
        "outputId": "e7c6e27c-38f2-4acb-9ecc-b01a2bb047c6"
      },
      "outputs": [
        {
          "data": {
            "text/plain": [
              "'hllo'"
            ]
          },
          "execution_count": 205,
          "metadata": {},
          "output_type": "execute_result"
        }
      ],
      "source": [
        "s='hello'\n",
        "s.replace('e','')"
      ]
    },
    {
      "cell_type": "markdown",
      "id": "46d61640-080c-4f16-9717-4fa3e971b953",
      "metadata": {
        "id": "46d61640-080c-4f16-9717-4fa3e971b953"
      },
      "source": [
        "# question -14\n",
        "## Python Program to  Words Frequency in String\n",
        "## Input : test_str = 'hello is best'\n",
        "## Output : {'hello': 1, 'is': 1, 'best': 1}\n",
        "\n",
        "\n",
        "\n"
      ]
    },
    {
      "cell_type": "code",
      "execution_count": null,
      "id": "1e70e564-e1b7-4920-ac46-f47753aea041",
      "metadata": {
        "id": "1e70e564-e1b7-4920-ac46-f47753aea041",
        "outputId": "4a8616a5-65f6-4bc3-bf17-53bf6fbbbcc0"
      },
      "outputs": [
        {
          "data": {
            "text/plain": [
              "{'hello': 2, 'is': 1, 'best': 1}"
            ]
          },
          "execution_count": 209,
          "metadata": {},
          "output_type": "execute_result"
        }
      ],
      "source": [
        "s='hello is best hello'\n",
        "l=s.split()\n",
        "l\n",
        "d={}\n",
        "for i in l:\n",
        "    if i in d:\n",
        "        d[i]+=1\n",
        "    else:\n",
        "        d[i]=1\n",
        "d"
      ]
    },
    {
      "cell_type": "markdown",
      "id": "43196fa9-29a4-4eec-b743-72fb666eca6e",
      "metadata": {
        "id": "43196fa9-29a4-4eec-b743-72fb666eca6e"
      },
      "source": [
        "# question -15\n",
        "## Python Program to  Remove All Duplicates from a Given String in Python\n",
        "## Input : Input : feeksforfeeks\n",
        "\n",
        "## Output : feksfor\n",
        "\n",
        "\n",
        "\n"
      ]
    },
    {
      "cell_type": "code",
      "execution_count": null,
      "id": "561647bf-8ff5-4b8c-b33e-fe8d8eea19b8",
      "metadata": {
        "id": "561647bf-8ff5-4b8c-b33e-fe8d8eea19b8",
        "outputId": "32c56e76-a5e8-46bb-d820-6ceba893bd0d"
      },
      "outputs": [
        {
          "data": {
            "text/plain": [
              "'feksor'"
            ]
          },
          "execution_count": 211,
          "metadata": {},
          "output_type": "execute_result"
        }
      ],
      "source": [
        "s='feeksforfeeks'\n",
        "a=''\n",
        "for i in s:\n",
        "    if i in a:\n",
        "        pass\n",
        "    else:\n",
        "        a+=i\n",
        "a"
      ]
    },
    {
      "cell_type": "markdown",
      "id": "29a456ea-9f42-4144-bc78-3fceb91521d6",
      "metadata": {
        "id": "29a456ea-9f42-4144-bc78-3fceb91521d6"
      },
      "source": [
        "# question -16\n",
        "## Python Program to Python program to find the sum of all items in a dictionary\n",
        "## Input : {‘a’: 100, ‘b’:200, ‘c’:300}\n",
        "## Output : 600\n",
        "\n",
        "\n",
        "\n"
      ]
    },
    {
      "cell_type": "code",
      "execution_count": null,
      "id": "5c490186-d038-4b42-bb43-b0e45f66e98d",
      "metadata": {
        "id": "5c490186-d038-4b42-bb43-b0e45f66e98d",
        "outputId": "593383cb-ae19-4c5c-9e47-fbec3a0218a1"
      },
      "outputs": [
        {
          "data": {
            "text/plain": [
              "600"
            ]
          },
          "execution_count": 275,
          "metadata": {},
          "output_type": "execute_result"
        }
      ],
      "source": [
        "d={'a': 100, 'b':200, 'c':300}\n",
        "\n",
        "sum = 0\n",
        "for i in d.values():\n",
        "    sum=sum+i\n",
        "\n",
        "sum"
      ]
    },
    {
      "cell_type": "markdown",
      "id": "8425ddf0-638c-4959-959d-4f7e496a7750",
      "metadata": {
        "id": "8425ddf0-638c-4959-959d-4f7e496a7750"
      },
      "source": [
        "# question -17\n",
        "## Python Program dictionary duplicate values append\n",
        "## Input : d = {'Sun': 5, 'Mon': 3, 'Tue': 5, 'Wed': 3}\n",
        "## Output : {5: ['Sun', 'Tue'], 3: ['Mon', 'Wed']}\n",
        "\n",
        "\n",
        "\n"
      ]
    },
    {
      "cell_type": "code",
      "execution_count": null,
      "id": "bf71a076-37e0-43e2-bc1e-eec2506745ff",
      "metadata": {
        "id": "bf71a076-37e0-43e2-bc1e-eec2506745ff",
        "outputId": "56262a0f-b9b1-47c7-dbfe-3db8d0d9eaa9"
      },
      "outputs": [
        {
          "name": "stdout",
          "output_type": "stream",
          "text": [
            "5\n",
            "3\n",
            "5\n",
            "3\n"
          ]
        },
        {
          "data": {
            "text/plain": [
              "{5: ['Sun', 'Tue'], 3: ['Mon', 'Wed']}"
            ]
          },
          "execution_count": 303,
          "metadata": {},
          "output_type": "execute_result"
        }
      ],
      "source": [
        "d = {'Sun': 5, 'Mon': 3, 'Tue': 5, 'Wed': 3}\n",
        "a= {}\n",
        "\n",
        "for key,value in d.items():\n",
        "    print(value)\n",
        "    if value not in a:\n",
        "        a[value]=[key]\n",
        "    else:\n",
        "        a[value].append(key)\n",
        "\n",
        "a\n"
      ]
    },
    {
      "cell_type": "markdown",
      "id": "0ca9f422-5379-46eb-ac24-487a32ba1bac",
      "metadata": {
        "id": "0ca9f422-5379-46eb-ac24-487a32ba1bac"
      },
      "source": [
        "# question -18\n",
        "\n",
        "# difference between deep copy and shallow copy\n",
        "\n",
        "### Shallow Copy: Creates a new object but references the original objects for nested elements (e.g., copy.copy() in copy module).\n",
        "### Deep Copy: Creates a completely independent copy, including nested elements (e.g., copy.deepcopy() in copy module).\n",
        "\n",
        "\n",
        "\n",
        "\n",
        "\n"
      ]
    },
    {
      "cell_type": "code",
      "execution_count": null,
      "id": "4f217a1e-49ef-4385-ba1d-0b60156f1c32",
      "metadata": {
        "id": "4f217a1e-49ef-4385-ba1d-0b60156f1c32",
        "outputId": "66403c28-de84-49ff-a3f6-88888d79734d"
      },
      "outputs": [
        {
          "data": {
            "text/plain": [
              "([100, 2, 3], [100, 2, 3])"
            ]
          },
          "execution_count": 335,
          "metadata": {},
          "output_type": "execute_result"
        }
      ],
      "source": [
        "l=[1,2,3]\n",
        "l1=l\n",
        "l[0]=100\n",
        "l,l1"
      ]
    },
    {
      "cell_type": "code",
      "execution_count": null,
      "id": "5bb32996-c6ff-4b39-a0b5-2bf5497ac171",
      "metadata": {
        "id": "5bb32996-c6ff-4b39-a0b5-2bf5497ac171",
        "outputId": "564b271d-26ad-434f-fbb5-7ca7defc2e2b"
      },
      "outputs": [
        {
          "data": {
            "text/plain": [
              "([[100, 2, 3], [2, 3, 4]], [[100, 2, 3], [2, 3, 4]])"
            ]
          },
          "execution_count": 341,
          "metadata": {},
          "output_type": "execute_result"
        }
      ],
      "source": [
        "#shallow copy\n",
        "import copy\n",
        "l=[[1,2,3],[2,3,4]]\n",
        "l1=copy.copy(l)\n",
        "l[0][0]=100\n",
        "l,l1"
      ]
    },
    {
      "cell_type": "code",
      "execution_count": null,
      "id": "dcf851e3-129c-4921-b438-7d72e5c204ec",
      "metadata": {
        "id": "dcf851e3-129c-4921-b438-7d72e5c204ec",
        "outputId": "b6a77e7b-4cfc-4ab8-b1bc-4c2cca5d109f"
      },
      "outputs": [
        {
          "data": {
            "text/plain": [
              "([[100, 2, 3], [2, 3, 4]], [[1, 2, 3], [2, 3, 4]])"
            ]
          },
          "execution_count": 343,
          "metadata": {},
          "output_type": "execute_result"
        }
      ],
      "source": [
        "#deepcopy copy\n",
        "import copy\n",
        "l=[[1,2,3],[2,3,4]]\n",
        "l1=copy.deepcopy(l)\n",
        "l[0][0]=100\n",
        "l,l1"
      ]
    },
    {
      "cell_type": "markdown",
      "id": "0717c83d-97ed-48d6-a36e-cb46fa3ee8f3",
      "metadata": {
        "id": "0717c83d-97ed-48d6-a36e-cb46fa3ee8f3"
      },
      "source": [
        "# question -19\n",
        "\n",
        "# difference between list and tuple\n",
        "\n",
        "### When to Use Lists vs. Tuples\n",
        "### Lists: When you need a dynamic collection with frequent updates, modifications, or appends.\n",
        "### Tuples: When you need a fixed, read-only collection or want to use the data as dictionary keys.\n",
        "\n",
        "\n",
        "\n",
        "\n",
        "\n"
      ]
    },
    {
      "cell_type": "code",
      "execution_count": null,
      "id": "9d549e64-d623-4096-a648-184b4deb036e",
      "metadata": {
        "id": "9d549e64-d623-4096-a648-184b4deb036e",
        "outputId": "7651f49a-c416-473c-8c13-0b9c9804b164"
      },
      "outputs": [
        {
          "data": {
            "text/plain": [
              "[1, 2, 3, 5]"
            ]
          },
          "execution_count": 347,
          "metadata": {},
          "output_type": "execute_result"
        }
      ],
      "source": [
        "l=[1,2,3]\n",
        "\n",
        "l.append(5)\n",
        "l"
      ]
    },
    {
      "cell_type": "code",
      "execution_count": null,
      "id": "abaf61f2-94db-4a5d-a9c3-7a0edfe5ebd7",
      "metadata": {
        "id": "abaf61f2-94db-4a5d-a9c3-7a0edfe5ebd7",
        "outputId": "01c2cd76-6449-47c5-8d28-2ab0359491a4"
      },
      "outputs": [
        {
          "ename": "AttributeError",
          "evalue": "'tuple' object has no attribute 'append'",
          "output_type": "error",
          "traceback": [
            "\u001b[1;31m---------------------------------------------------------------------------\u001b[0m",
            "\u001b[1;31mAttributeError\u001b[0m                            Traceback (most recent call last)",
            "Cell \u001b[1;32mIn[349], line 2\u001b[0m\n\u001b[0;32m      1\u001b[0m a\u001b[38;5;241m=\u001b[39m(\u001b[38;5;241m1\u001b[39m,\u001b[38;5;241m2\u001b[39m,\u001b[38;5;241m3\u001b[39m)\n\u001b[1;32m----> 2\u001b[0m a\u001b[38;5;241m.\u001b[39mappend(\u001b[38;5;241m4\u001b[39m)\n",
            "\u001b[1;31mAttributeError\u001b[0m: 'tuple' object has no attribute 'append'"
          ]
        }
      ],
      "source": [
        "a=(1,2,3)\n",
        "a.append(4)\n",
        "#immutable"
      ]
    },
    {
      "cell_type": "code",
      "execution_count": null,
      "id": "d0f4fd75-dad8-416a-8115-c3dbe70fde57",
      "metadata": {
        "id": "d0f4fd75-dad8-416a-8115-c3dbe70fde57"
      },
      "outputs": [],
      "source": [
        "# question -20\n",
        "\n",
        "#  TWO SUM problem\n",
        "\n",
        "### When to Use Lists vs. Tuples\n",
        "### Lists: When you need a dynamic collection with frequent updates, modifications, or appends.\n",
        "### Tuples: When you need a fixed, read-only collection or want to use the data as dictionary keys.\n",
        "\n",
        "\n",
        "\n",
        "\n",
        "\n"
      ]
    }
  ],
  "metadata": {
    "kernelspec": {
      "display_name": "Python 3 (ipykernel)",
      "language": "python",
      "name": "python3"
    },
    "language_info": {
      "codemirror_mode": {
        "name": "ipython",
        "version": 3
      },
      "file_extension": ".py",
      "mimetype": "text/x-python",
      "name": "python",
      "nbconvert_exporter": "python",
      "pygments_lexer": "ipython3",
      "version": "3.12.7"
    },
    "colab": {
      "provenance": []
    }
  },
  "nbformat": 4,
  "nbformat_minor": 5
}